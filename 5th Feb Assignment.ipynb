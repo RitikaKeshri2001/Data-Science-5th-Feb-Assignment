{
 "cells": [
  {
   "cell_type": "markdown",
   "id": "f52ce7e6-0a6e-4334-b542-aff4ac868211",
   "metadata": {},
   "source": [
    "Q1.Explain class and object with respect to object oriented programming. Give a suitable example."
   ]
  },
  {
   "cell_type": "markdown",
   "id": "23b2c495-9c9c-4d3f-8f56-4a506435364c",
   "metadata": {},
   "source": [
    "    A class is the user-defined layout or blueprint of object \n",
    "    that defines what a specific kind of object will look like.\n",
    "    It defines the variables and methods common to all objects\n",
    "    of a certain kind.\n",
    "\n",
    "    An object is a single instance of class which contain data \n",
    "    and methods working on that data."
   ]
  },
  {
   "cell_type": "code",
   "execution_count": 1,
   "id": "d210a938-7427-44c7-9a09-580f771f6e3b",
   "metadata": {},
   "outputs": [],
   "source": [
    "#bike is the class \n",
    "class bike :\n",
    "    name = \"\"\n",
    "    gear = 0\n",
    "\n",
    "#bike1 is the object of the class bike\n",
    "bike1 = bike()"
   ]
  },
  {
   "cell_type": "markdown",
   "id": "b7d584a4-84f3-4648-ad96-15a6800c6428",
   "metadata": {},
   "source": [
    "Q2.Name four pillars of OOPs."
   ]
  },
  {
   "cell_type": "markdown",
   "id": "27b982d7-ca55-4c07-9efe-ac643abd7214",
   "metadata": {},
   "source": [
    "    Four pillars of OOPs are:\n",
    "        a.Inheritance\n",
    "        b.Polymorphism\n",
    "        c.Encapsulation\n",
    "        d.Abstraction"
   ]
  },
  {
   "cell_type": "markdown",
   "id": "c7cda042-e669-4809-bbf0-20a13c40a87d",
   "metadata": {},
   "source": [
    "Q3.Explain why the __init__() function is used.Give a suitable example.\n",
    "\n",
    "    It is inbuilt function used to pass data in class.\n",
    "    It is a constructor, allowing a class to hold objects with different values.\n",
    "    \n",
    "    Every object could have its values for the attributes of a class. This\n",
    "    functionality can be achieved using the __init__ method.\n",
    "    \n",
    "    It is similar to a method inside a class.It is executed as soon as an object\n",
    "    is created for the class.\n",
    "    "
   ]
  },
  {
   "cell_type": "code",
   "execution_count": 2,
   "id": "8eba5d07-76ef-46bc-a3a1-aa9be8d7de41",
   "metadata": {},
   "outputs": [],
   "source": [
    "#Example\n",
    "class student:\n",
    "    def __init__(self, name, number) :\n",
    "        self.name = name\n",
    "        self.number = number\n",
    "    \n",
    "    def return_details():\n",
    "        return name, number"
   ]
  },
  {
   "cell_type": "markdown",
   "id": "4fe81092-5a11-4b4a-a9b0-46abe371c4ac",
   "metadata": {},
   "source": [
    "Q4.Why self used in OOPs?\n",
    "\n",
    "    self represents the instance of the class.\n",
    "    By using self, we can access the attributes and methods of the class.\n",
    "    It binds the attribites with the given arguments.\n",
    "    \n",
    "    self is parameter in instance method and user can use another parameter \n",
    "    name in place of it."
   ]
  },
  {
   "cell_type": "markdown",
   "id": "d09a31df-1a1e-420a-85b2-38a961ae07e7",
   "metadata": {},
   "source": [
    "Q5.What is inheritance? Give an example for each type of inheritance.\n",
    "    \n",
    "    Inheritance is a process of inheriting properties and characteristics(variables\n",
    "    and methods) of base class to the child class.\n",
    "    With the use of inheritance we donot need to write the same code and logic,\n",
    "    we can inherit the features of other classes and also add more features to \n",
    "    the derived class.\n",
    "    \n",
    "    There are five types of inheritance:\n",
    "        a.Single inheritance\n",
    "        b.Multiple inheritance\n",
    "        c.Multilevel inheritance\n",
    "        d.Hierarchical inheritance\n",
    "        e.Hybrid inheritance\n",
    "    \n",
    "    Eg:-"
   ]
  },
  {
   "cell_type": "code",
   "execution_count": 3,
   "id": "8cb03339-8ddf-4813-b4d7-e61d31f65bea",
   "metadata": {},
   "outputs": [
    {
     "name": "stdout",
     "output_type": "stream",
     "text": [
      "This function is in parent class\n",
      "This function is in child class\n"
     ]
    }
   ],
   "source": [
    "# Single Inheritance\n",
    "# enables derived class to inherit properties from single parent class\n",
    "\n",
    "#Base class\n",
    "class Parent:\n",
    "    def test1(self):\n",
    "        print(\"This function is in parent class\")\n",
    "        \n",
    "#child class\n",
    "class Child(Parent):\n",
    "    def test2(self):\n",
    "        print(\"This function is in child class\")\n",
    "        \n",
    "a = Child()\n",
    "a.test1()\n",
    "a.test2()"
   ]
  },
  {
   "cell_type": "code",
   "execution_count": 4,
   "id": "7b8bb114-042a-4a15-ba1e-2c456d237923",
   "metadata": {},
   "outputs": [
    {
     "name": "stdout",
     "output_type": "stream",
     "text": [
      "Father : Ram\n",
      "Mother : Sita\n"
     ]
    }
   ],
   "source": [
    "# Multiple Inheritance\n",
    "# class can be inherit from more than one parent class \n",
    "\n",
    "#Base class1\n",
    "class Father:\n",
    "    fatherName = \"\"\n",
    "    def father(self) :\n",
    "        print(self.fatherName)\n",
    "\n",
    "#Base class2\n",
    "class Mother:\n",
    "    motherName = \"\"\n",
    "    def father(self) :\n",
    "        print(self.motherName)\n",
    "        \n",
    "# child class\n",
    "class Child(Father, Mother) :\n",
    "    def parents(self):\n",
    "        print(\"Father :\", self.fatherName)\n",
    "        print(\"Mother :\", self.motherName)\n",
    "\n",
    "s = Child()\n",
    "s.fatherName = \"Ram\"\n",
    "s.motherName = \"Sita\"\n",
    "s.parents()"
   ]
  },
  {
   "cell_type": "code",
   "execution_count": 5,
   "id": "e6a4218a-bf9b-47c2-98fe-c51bf4827d74",
   "metadata": {},
   "outputs": [
    {
     "name": "stdout",
     "output_type": "stream",
     "text": [
      "Grandfather : Mohan\n",
      "Father : Sohan\n",
      "Son : Rohan\n"
     ]
    }
   ],
   "source": [
    "# MultiLevel Inheritance\n",
    "# feature of base class and derived class are further inherited into the new derived class\n",
    "\n",
    "class GrandFather:\n",
    "    def __init__(self, grandFatherName):\n",
    "        self.grandFatherName = grandFatherName\n",
    "    \n",
    "class Father(GrandFather):\n",
    "    def __init__(self, fatherName, grandFatherName):\n",
    "        self.fatherName = fatherName\n",
    "        GrandFather.__init__(self, grandFatherName)\n",
    "    \n",
    "class Son(Father):\n",
    "    def __init__(self, sonName, fatherName, grandFatherName):\n",
    "        self.sonName = sonName\n",
    "        Father.__init__(self, fatherName, grandFatherName)\n",
    "    \n",
    "    def print_name(self):\n",
    "        print(\"Grandfather :\", self.grandFatherName)\n",
    "        print(\"Father :\", self.fatherName)\n",
    "        print(\"Son :\", self.sonName)\n",
    "        \n",
    "s1 = Son(\"Rohan\", \"Sohan\", \"Mohan\")\n",
    "s1.print_name()"
   ]
  },
  {
   "cell_type": "code",
   "execution_count": 6,
   "id": "b858b93e-c901-4885-a46d-90627ad18bd2",
   "metadata": {},
   "outputs": [
    {
     "name": "stdout",
     "output_type": "stream",
     "text": [
      "This is parent class\n",
      "This is child 1\n",
      "This is parent class\n",
      "This is child 2\n"
     ]
    }
   ],
   "source": [
    "# Hierarchical Inheritance\n",
    "# more than one derived class are created from a single base class\n",
    "\n",
    "class Parent:\n",
    "    def fun1(self) :\n",
    "        print(\"This is parent class\")\n",
    "    \n",
    "class Child1(Parent):\n",
    "    def fun2(self):\n",
    "        print(\"This is child 1\")\n",
    "    \n",
    "class Child2(Parent):\n",
    "    def fun3(self):\n",
    "        print(\"This is child 2\")\n",
    "\n",
    "c1 = Child1()\n",
    "c1.fun1()\n",
    "c1.fun2()\n",
    "\n",
    "c2 = Child2()\n",
    "c2.fun1()\n",
    "c2.fun3()"
   ]
  },
  {
   "cell_type": "code",
   "execution_count": 7,
   "id": "08f43ef7-ebb6-49d8-abc7-191b7a9aedbb",
   "metadata": {},
   "outputs": [
    {
     "name": "stdout",
     "output_type": "stream",
     "text": [
      "This function is in school\n",
      "This function is in student3\n"
     ]
    }
   ],
   "source": [
    "# Hybrid Inheritance\n",
    "# consisting of multiple type of inheritance\n",
    "\n",
    "class School:\n",
    "    def func1(self):\n",
    "        print(\"This function is in school\")\n",
    "    \n",
    "class Student1(School):\n",
    "    def func2(self):\n",
    "        print(\"This function is in student1\")\n",
    "    \n",
    "class Student2(School):\n",
    "    def func3(self):\n",
    "        print(\"This function is in student2\")\n",
    "\n",
    "class Student3(Student1, School):\n",
    "    def func4(self):\n",
    "        print(\"This function is in student3\")\n",
    "        \n",
    "s = Student3()\n",
    "s.func1()\n",
    "s.func4()"
   ]
  },
  {
   "cell_type": "code",
   "execution_count": null,
   "id": "17e5128d-60f8-45e6-a672-456dc2b93569",
   "metadata": {},
   "outputs": [],
   "source": []
  }
 ],
 "metadata": {
  "kernelspec": {
   "display_name": "Python 3 (ipykernel)",
   "language": "python",
   "name": "python3"
  },
  "language_info": {
   "codemirror_mode": {
    "name": "ipython",
    "version": 3
   },
   "file_extension": ".py",
   "mimetype": "text/x-python",
   "name": "python",
   "nbconvert_exporter": "python",
   "pygments_lexer": "ipython3",
   "version": "3.10.8"
  }
 },
 "nbformat": 4,
 "nbformat_minor": 5
}
